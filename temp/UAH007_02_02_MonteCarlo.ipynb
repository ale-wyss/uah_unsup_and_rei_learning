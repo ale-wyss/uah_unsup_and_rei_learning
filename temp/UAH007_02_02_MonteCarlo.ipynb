{
 "cells": [
  {
   "cell_type": "markdown",
   "metadata": {},
   "source": [
    "# Reinforcement learning: Monte Carlo\n",
    "Classes and functions created in the previous notebook are imported with the required libraries."
   ]
  },
  {
   "cell_type": "code",
   "execution_count": 6,
   "metadata": {
    "ExecuteTime": {
     "end_time": "2019-06-12T20:23:23.667112Z",
     "start_time": "2019-06-12T20:23:23.437481Z"
    }
   },
   "outputs": [],
   "source": [
    "import numpy as np\n",
    "import matplotlib.pyplot as plt\n",
    "\n",
    "from UAH007_02_01_Dynamic_programming import Grid, create_grid, print_value_policy, print_policy, random_policy\n",
    "\n",
    "%config InlineBackend.figure_format = 'retina'\n"
   ]
  },
  {
   "cell_type": "markdown",
   "metadata": {},
   "source": [
    "## Modify politicy in a windy world\n",
    "\n",
    "In the first place, a function to modify the policy in a world with wind will be created. This function will generate a random number and when the probability is higher than a threshold instead of moving according to the policy it moves randomly in any other direction."
   ]
  },
  {
   "cell_type": "code",
   "execution_count": 7,
   "metadata": {
    "ExecuteTime": {
     "end_time": "2019-06-12T20:23:23.672927Z",
     "start_time": "2019-06-12T20:23:23.668721Z"
    }
   },
   "outputs": [],
   "source": [
    "def random_windy(a, windy=0.5, possible_actions=('U', 'D', 'L', 'R')):\n",
    "    p = np.random.random()\n",
    "\n",
    "    if p > windy:\n",
    "        return a\n",
    "    else:\n",
    "        actions = list(possible_actions)\n",
    "        \n",
    "        if a  in actions:\n",
    "            actions.remove(a)\n",
    "            \n",
    "        return np.random.choice(actions)"
   ]
  },
  {
   "cell_type": "markdown",
   "metadata": {},
   "source": [
    "## Monte Carlo\n",
    "A function that plays the game on the board and returns a list of states and returns is implemented.\n",
    "\n",
    "First, it is necessary to restart the game to start at a random position. This must be done to evaluate the states in the cell in which the polity never go.\n",
    "\n",
    "The game is played and the states are saved in a tuple of reward and states. Returns are calculated by backward programming."
   ]
  },
  {
   "cell_type": "code",
   "execution_count": 8,
   "metadata": {
    "ExecuteTime": {
     "end_time": "2019-06-12T20:23:23.692039Z",
     "start_time": "2019-06-12T20:23:23.677491Z"
    }
   },
   "outputs": [],
   "source": [
    "def play_game(grid, policy, windy=0, gamma=0.9):\n",
    "\n",
    "    # Restart the game to start at a random position\n",
    "    start_states = list(grid.actions.keys())\n",
    "    start_idx = np.random.choice(len(start_states))\n",
    "    grid.set_state(start_states[start_idx])\n",
    "\n",
    "    s = grid.current_state()\n",
    "    states_and_rewards = [(s, 0)]\n",
    "    while not grid.game_over():\n",
    "        a = policy[s]\n",
    "        a = random_windy(a, windy, grid.actions[s])\n",
    "        r = grid.move(a)\n",
    "        s = grid.current_state()\n",
    "        states_and_rewards.append((s, r))\n",
    "\n",
    "    # Calculation of the returns, the value of the terminal state is 0 by definition\n",
    "    G = 0\n",
    "    states_and_returns = []\n",
    "    first = True\n",
    "\n",
    "    for s, r in reversed(states_and_rewards):\n",
    "        # It must ignore the first state and the last G since it does not correspond\n",
    "        # to any movement\n",
    "        if first:\n",
    "            first = False\n",
    "        else:\n",
    "            states_and_returns.append((s, G))\n",
    "        G = r + gamma*G\n",
    "\n",
    "    # The states are rearranged\n",
    "    states_and_returns.reverse()\n",
    "\n",
    "    return states_and_returns"
   ]
  },
  {
   "cell_type": "markdown",
   "metadata": {},
   "source": [
    "Now board and a policy to evaluate the value function using the Monte Carlo method can create."
   ]
  },
  {
   "cell_type": "code",
   "execution_count": 9,
   "metadata": {
    "ExecuteTime": {
     "end_time": "2019-06-12T20:23:23.708069Z",
     "start_time": "2019-06-12T20:23:23.694760Z"
    }
   },
   "outputs": [
    {
     "name": "stdout",
     "output_type": "stream",
     "text": [
      "---------------------------\n",
      "  →  |  →  |  →  |     |\n",
      "---------------------------\n",
      "  ↑  |     |  →  |     |\n",
      "---------------------------\n",
      "  ↑  |  →  |  →  |  ↑  |\n"
     ]
    }
   ],
   "source": [
    "grid = create_grid()\n",
    "policy = {\n",
    "    (2, 0): 'U',\n",
    "    (1, 0): 'U',\n",
    "    (0, 0): 'R',\n",
    "    (0, 1): 'R',\n",
    "    (0, 2): 'R',\n",
    "    (1, 2): 'R',\n",
    "    (2, 1): 'R',\n",
    "    (2, 2): 'R',\n",
    "    (2, 3): 'U'}\n",
    "\n",
    "print_policy(policy, grid)"
   ]
  },
  {
   "cell_type": "markdown",
   "metadata": {},
   "source": [
    "A function to initialize the values and returns can create."
   ]
  },
  {
   "cell_type": "code",
   "execution_count": 10,
   "metadata": {
    "ExecuteTime": {
     "end_time": "2019-06-12T20:23:23.736279Z",
     "start_time": "2019-06-12T20:23:23.713187Z"
    }
   },
   "outputs": [],
   "source": [
    "def init_v_returns():\n",
    "    V = {}\n",
    "    returns = {}\n",
    "    states = grid.all_states()\n",
    "    for s in states:\n",
    "        if s in grid.actions:\n",
    "            returns[s] = []\n",
    "        else:\n",
    "            V[s] = 0\n",
    "\n",
    "    return V, returns"
   ]
  },
  {
   "cell_type": "markdown",
   "metadata": {},
   "source": [
    "Once the policy is defined, it can be evaluated."
   ]
  },
  {
   "cell_type": "code",
   "execution_count": 11,
   "metadata": {
    "ExecuteTime": {
     "end_time": "2019-06-12T20:23:24.194789Z",
     "start_time": "2019-06-12T20:23:23.737999Z"
    }
   },
   "outputs": [
    {
     "name": "stdout",
     "output_type": "stream",
     "text": [
      "Value function\n",
      "---------------------------\n",
      " 0.81| 0.90| 1.00| 0.00|\n",
      "---------------------------\n",
      " 0.73| 0.00|-1.00| 0.00|\n",
      "---------------------------\n",
      " 0.66|-0.81|-0.90|-1.00|\n",
      "\n",
      "Policy\n",
      "---------------------------\n",
      "  →  |  →  |  →  |     |\n",
      "---------------------------\n",
      "  ↑  |     |  →  |     |\n",
      "---------------------------\n",
      "  ↑  |  →  |  →  |  ↑  |\n"
     ]
    }
   ],
   "source": [
    "V, returns = init_v_returns()\n",
    "\n",
    "for t in range(5000):\n",
    "    states_and_returns = play_game(grid, policy)\n",
    "    seen_states = set()\n",
    "    for s, G in states_and_returns:\n",
    "        # Solamente se evalúa la primera visita\n",
    "        if s not in seen_states:\n",
    "            returns[s].append(G)\n",
    "            V[s] = np.mean(returns[s])\n",
    "            seen_states.add(s)\n",
    "\n",
    "print_value_policy(V, policy, grid)"
   ]
  },
  {
   "cell_type": "markdown",
   "metadata": {},
   "source": [
    "The exercise with wind can repeat."
   ]
  },
  {
   "cell_type": "code",
   "execution_count": 12,
   "metadata": {
    "ExecuteTime": {
     "end_time": "2019-06-12T20:23:25.210184Z",
     "start_time": "2019-06-12T20:23:24.198691Z"
    }
   },
   "outputs": [
    {
     "name": "stdout",
     "output_type": "stream",
     "text": [
      "Value function\n",
      "---------------------------\n",
      " 0.11| 0.24| 0.45| 0.00|\n",
      "---------------------------\n",
      "-0.01| 0.00|-0.53| 0.00|\n",
      "---------------------------\n",
      "-0.14|-0.31|-0.53|-0.73|\n",
      "\n",
      "Policy\n",
      "---------------------------\n",
      "  →  |  →  |  →  |     |\n",
      "---------------------------\n",
      "  ↑  |     |  →  |     |\n",
      "---------------------------\n",
      "  ↑  |  →  |  →  |  ↑  |\n"
     ]
    }
   ],
   "source": [
    "V, returns = init_v_returns()\n",
    "\n",
    "for t in range(5000):\n",
    "    states_and_returns = play_game(grid, policy, windy=0.5)\n",
    "    seen_states = set()\n",
    "    for s, G in states_and_returns:\n",
    "        # Only the first visit is evaluated\n",
    "        if s not in seen_states:\n",
    "            returns[s].append(G)\n",
    "            V[s] = np.mean(returns[s])\n",
    "            seen_states.add(s)\n",
    "\n",
    "print_value_policy(V, policy, grid)"
   ]
  },
  {
   "cell_type": "markdown",
   "metadata": {},
   "source": [
    "The exercise with another policy can repeat."
   ]
  },
  {
   "cell_type": "code",
   "execution_count": 14,
   "metadata": {
    "ExecuteTime": {
     "end_time": "2019-06-12T20:23:25.224221Z",
     "start_time": "2019-06-12T20:23:25.211817Z"
    }
   },
   "outputs": [
    {
     "name": "stdout",
     "output_type": "stream",
     "text": [
      "---------------------------\n",
      "  →  |  →  |  →  |     |\n",
      "---------------------------\n",
      "  ↑  |     |  ↑  |     |\n",
      "---------------------------\n",
      "  ↑  |  ←  |  ↑  |  ←  |\n"
     ]
    }
   ],
   "source": [
    "policy = {\n",
    "    (2, 0): 'U',\n",
    "    (1, 0): 'U',\n",
    "    (0, 0): 'R',\n",
    "    (0, 1): 'R',\n",
    "    (0, 2): 'R',\n",
    "    (1, 2): 'U',\n",
    "    (2, 1): 'L',\n",
    "    (2, 2): 'U',\n",
    "    (2, 3): 'L'}\n",
    "\n",
    "print_policy(policy, grid)"
   ]
  },
  {
   "cell_type": "code",
   "execution_count": 9,
   "metadata": {
    "ExecuteTime": {
     "end_time": "2019-06-12T20:23:26.340897Z",
     "start_time": "2019-06-12T20:23:25.226014Z"
    }
   },
   "outputs": [
    {
     "name": "stdout",
     "output_type": "stream",
     "text": [
      "Value function\n",
      "---------------------------\n",
      " 0.18| 0.32| 0.55| 0.00|\n",
      "---------------------------\n",
      " 0.09| 0.00|-0.05| 0.00|\n",
      "---------------------------\n",
      " 0.01|-0.09|-0.17|-0.58|\n",
      "\n",
      "Policy\n",
      "---------------------------\n",
      "  →  |  →  |  →  |     |\n",
      "---------------------------\n",
      "  ↑  |     |  ↑  |     |\n",
      "---------------------------\n",
      "  ↑  |  ←  |  ↑  |  ←  |\n"
     ]
    }
   ],
   "source": [
    "V, returns = init_v_returns()\n",
    "\n",
    "for t in range(5000):\n",
    "    states_and_returns = play_game(grid, policy, windy=0.5)\n",
    "    seen_states = set()\n",
    "    for s, G in states_and_returns:\n",
    "        # Only the first visit is evaluated\n",
    "        if s not in seen_states:\n",
    "            returns[s].append(G)\n",
    "            V[s] = np.mean(returns[s])\n",
    "            seen_states.add(s)\n",
    "\n",
    "print_value_policy(V, policy, grid)"
   ]
  },
  {
   "cell_type": "markdown",
   "metadata": {},
   "source": [
    "## Montecarlo_ES"
   ]
  },
  {
   "cell_type": "code",
   "execution_count": 15,
   "metadata": {
    "ExecuteTime": {
     "end_time": "2019-06-12T20:23:26.357128Z",
     "start_time": "2019-06-12T20:23:26.342729Z"
    }
   },
   "outputs": [],
   "source": [
    "def play_game_es(grid, policy, gamma=0.9):\n",
    "\n",
    "    # Restart the game to start at a random position\n",
    "    start_states = list(grid.actions.keys())\n",
    "    start_idx = np.random.choice(len(start_states))\n",
    "    grid.set_state(start_states[start_idx])\n",
    "\n",
    "    s = grid.current_state()\n",
    "\n",
    "    # The first action is random\n",
    "    a = np.random.choice(Grid.possible_actions)\n",
    "\n",
    "    # A triplet of actions and rewards states is created.\n",
    "    states_actions_rewards = [(s, a, 0)]\n",
    "    seen_states = set()\n",
    "    seen_states.add(grid.current_state())\n",
    "    num_steps = 0\n",
    "    while True:\n",
    "        r = grid.move(a)\n",
    "        num_steps += 1\n",
    "        s = grid.current_state()\n",
    "\n",
    "        if s in seen_states:\n",
    "            # In order not to end up in an infinite episode this penalty is\n",
    "            # added for falling on the wall.\n",
    "            reward = -10. / num_steps\n",
    "            states_actions_rewards.append((s, None, reward))\n",
    "            break\n",
    "        elif grid.game_over():\n",
    "            states_actions_rewards.append((s, None, r))\n",
    "            break\n",
    "        else:\n",
    "            a = policy[s]\n",
    "            states_actions_rewards.append((s, a, r))\n",
    "        seen_states.add(s)\n",
    "\n",
    "    # Calculation of the returns, the value of the terminal state is 0 by definition\n",
    "    G = 0\n",
    "    states_actions_returns = []\n",
    "    first = True\n",
    "    for s, a, r in reversed(states_actions_rewards):\n",
    "        if first:\n",
    "            first = False\n",
    "        else:\n",
    "            states_actions_returns.append((s, a, G))\n",
    "        G = r + gamma*G\n",
    "\n",
    "    states_actions_returns.reverse()\n",
    "\n",
    "    return states_actions_returns"
   ]
  },
  {
   "cell_type": "markdown",
   "metadata": {},
   "source": [
    "It is necessary to recover the maximum value of the dictionary, for this a function is created."
   ]
  },
  {
   "cell_type": "code",
   "execution_count": 11,
   "metadata": {
    "ExecuteTime": {
     "end_time": "2019-06-12T20:23:26.365037Z",
     "start_time": "2019-06-12T20:23:26.359131Z"
    }
   },
   "outputs": [],
   "source": [
    "def max_dict(d):\n",
    "    max_key = None\n",
    "    max_val = float('-inf')\n",
    "    for k, v in d.items():\n",
    "        if v > max_val:\n",
    "            max_val = v\n",
    "            max_key = k\n",
    "    return max_key, max_val"
   ]
  },
  {
   "cell_type": "markdown",
   "metadata": {},
   "source": [
    "Like before it can be created a function to initialize the states."
   ]
  },
  {
   "cell_type": "code",
   "execution_count": 16,
   "metadata": {
    "ExecuteTime": {
     "end_time": "2019-06-12T20:23:26.379236Z",
     "start_time": "2019-06-12T20:23:26.369598Z"
    }
   },
   "outputs": [],
   "source": [
    "def init_q_returns(grid):\n",
    "    Q = {}\n",
    "    returns = {}\n",
    "    states = grid.all_states()\n",
    "    for s in states:\n",
    "        if s in grid.actions:\n",
    "            Q[s] = {}\n",
    "            for a in Grid.possible_actions:\n",
    "                Q[s][a] = 0\n",
    "                returns[(s, a)] = []\n",
    "        else:\n",
    "            pass\n",
    "\n",
    "    return Q, returns"
   ]
  },
  {
   "cell_type": "code",
   "execution_count": 17,
   "metadata": {},
   "outputs": [
    {
     "data": {
      "text/plain": [
       "({(0, 0): {'U': 0, 'D': 0, 'L': 0, 'R': 0},\n",
       "  (2, 1): {'U': 0, 'D': 0, 'L': 0, 'R': 0},\n",
       "  (2, 3): {'U': 0, 'D': 0, 'L': 0, 'R': 0},\n",
       "  (1, 0): {'U': 0, 'D': 0, 'L': 0, 'R': 0},\n",
       "  (0, 1): {'U': 0, 'D': 0, 'L': 0, 'R': 0},\n",
       "  (1, 2): {'U': 0, 'D': 0, 'L': 0, 'R': 0},\n",
       "  (2, 0): {'U': 0, 'D': 0, 'L': 0, 'R': 0},\n",
       "  (2, 2): {'U': 0, 'D': 0, 'L': 0, 'R': 0},\n",
       "  (0, 2): {'U': 0, 'D': 0, 'L': 0, 'R': 0}},\n",
       " {((0, 0), 'U'): [],\n",
       "  ((0, 0), 'D'): [],\n",
       "  ((0, 0), 'L'): [],\n",
       "  ((0, 0), 'R'): [],\n",
       "  ((2, 1), 'U'): [],\n",
       "  ((2, 1), 'D'): [],\n",
       "  ((2, 1), 'L'): [],\n",
       "  ((2, 1), 'R'): [],\n",
       "  ((2, 3), 'U'): [],\n",
       "  ((2, 3), 'D'): [],\n",
       "  ((2, 3), 'L'): [],\n",
       "  ((2, 3), 'R'): [],\n",
       "  ((1, 0), 'U'): [],\n",
       "  ((1, 0), 'D'): [],\n",
       "  ((1, 0), 'L'): [],\n",
       "  ((1, 0), 'R'): [],\n",
       "  ((0, 1), 'U'): [],\n",
       "  ((0, 1), 'D'): [],\n",
       "  ((0, 1), 'L'): [],\n",
       "  ((0, 1), 'R'): [],\n",
       "  ((1, 2), 'U'): [],\n",
       "  ((1, 2), 'D'): [],\n",
       "  ((1, 2), 'L'): [],\n",
       "  ((1, 2), 'R'): [],\n",
       "  ((2, 0), 'U'): [],\n",
       "  ((2, 0), 'D'): [],\n",
       "  ((2, 0), 'L'): [],\n",
       "  ((2, 0), 'R'): [],\n",
       "  ((2, 2), 'U'): [],\n",
       "  ((2, 2), 'D'): [],\n",
       "  ((2, 2), 'L'): [],\n",
       "  ((2, 2), 'R'): [],\n",
       "  ((0, 2), 'U'): [],\n",
       "  ((0, 2), 'D'): [],\n",
       "  ((0, 2), 'L'): [],\n",
       "  ((0, 2), 'R'): []})"
      ]
     },
     "execution_count": 17,
     "metadata": {},
     "output_type": "execute_result"
    }
   ],
   "source": [
    "init_q_returns(grid)"
   ]
  },
  {
   "cell_type": "markdown",
   "metadata": {},
   "source": [
    "To evaluate the method a random policy is created."
   ]
  },
  {
   "cell_type": "code",
   "execution_count": 13,
   "metadata": {
    "ExecuteTime": {
     "end_time": "2019-06-12T20:23:26.387891Z",
     "start_time": "2019-06-12T20:23:26.380491Z"
    }
   },
   "outputs": [
    {
     "name": "stdout",
     "output_type": "stream",
     "text": [
      "---------------------------\n",
      "  →  |  →  |  ↓  |     |\n",
      "---------------------------\n",
      "  ↑  |     |  →  |     |\n",
      "---------------------------\n",
      "  ↑  |  ←  |  ↑  |  ↑  |\n"
     ]
    }
   ],
   "source": [
    "grid = create_grid(step_cost=-0.1)\n",
    "policy = random_policy(grid)\n",
    "\n",
    "print_policy(policy, grid)"
   ]
  },
  {
   "cell_type": "code",
   "execution_count": 2,
   "metadata": {},
   "outputs": [
    {
     "ename": "NameError",
     "evalue": "name 'random_policy' is not defined",
     "output_type": "error",
     "traceback": [
      "\u001b[1;31m---------------------------------------------------------------------------\u001b[0m",
      "\u001b[1;31mNameError\u001b[0m                                 Traceback (most recent call last)",
      "\u001b[1;32m<ipython-input-2-9476488aae1f>\u001b[0m in \u001b[0;36m<module>\u001b[1;34m\u001b[0m\n\u001b[1;32m----> 1\u001b[1;33m \u001b[0mrandom_policy\u001b[0m\u001b[1;33m(\u001b[0m\u001b[0mgrid\u001b[0m\u001b[1;33m)\u001b[0m\u001b[1;33m\u001b[0m\u001b[1;33m\u001b[0m\u001b[0m\n\u001b[0m",
      "\u001b[1;31mNameError\u001b[0m: name 'random_policy' is not defined"
     ]
    }
   ],
   "source": [
    "random_policy(grid)"
   ]
  },
  {
   "cell_type": "markdown",
   "metadata": {},
   "source": [
    "Now is is possible to iterate."
   ]
  },
  {
   "cell_type": "code",
   "execution_count": 14,
   "metadata": {
    "ExecuteTime": {
     "end_time": "2019-06-12T20:23:26.667937Z",
     "start_time": "2019-06-12T20:23:26.391182Z"
    }
   },
   "outputs": [
    {
     "data": {
      "image/png": "[encoded data removed]",
      "text/plain": [
       "<Figure size 432x288 with 1 Axes>"
      ]
     },
     "metadata": {
      "image/png": {
       "height": 250,
       "width": 370
      },
      "needs_background": "light"
     },
     "output_type": "display_data"
    },
    {
     "name": "stdout",
     "output_type": "stream",
     "text": [
      "Value function\n",
      "---------------------------\n",
      "-0.56|-0.43| 1.00| 0.00|\n",
      "---------------------------\n",
      "-1.44| 0.00|-0.11| 0.00|\n",
      "---------------------------\n",
      "-1.22|-1.03|-0.29|-1.00|\n",
      "\n",
      "Policy\n",
      "---------------------------\n",
      "  →  |  →  |  →  |     |\n",
      "---------------------------\n",
      "  ↑  |     |  ↑  |     |\n",
      "---------------------------\n",
      "  ↑  |  →  |  ↑  |  ↑  |\n"
     ]
    }
   ],
   "source": [
    "Q, returns = init_q_returns(grid)\n",
    "\n",
    "deltas = []\n",
    "for t in range(2000):\n",
    "    biggest_change = 0\n",
    "    states_actions_returns = play_game_es(grid, policy)\n",
    "    seen_state_action_pairs = set()\n",
    "    for s, a, G in states_actions_returns:\n",
    "        sa = (s, a)\n",
    "        if sa not in seen_state_action_pairs:\n",
    "            old_q = Q[s][a]\n",
    "            returns[sa].append(G)\n",
    "            Q[s][a] = np.mean(returns[sa])\n",
    "            biggest_change = max(biggest_change, np.abs(old_q - Q[s][a]))\n",
    "            seen_state_action_pairs.add(sa)\n",
    "    deltas.append(biggest_change)\n",
    "\n",
    "    for s in policy.keys():\n",
    "        policy[s] = max_dict(Q[s])[0]\n",
    "\n",
    "plt.plot(deltas)\n",
    "plt.show()\n",
    "\n",
    "# Obtener V V\n",
    "V = {}\n",
    "for s, Qs in Q.items():\n",
    "    V[s] = max_dict(Q[s])[1]\n",
    "\n",
    "print_value_policy(V, policy, grid)"
   ]
  },
  {
   "cell_type": "markdown",
   "metadata": {},
   "source": [
    "## Monte Carlo without ES"
   ]
  },
  {
   "cell_type": "code",
   "execution_count": 15,
   "metadata": {
    "ExecuteTime": {
     "end_time": "2019-06-12T20:23:26.684670Z",
     "start_time": "2019-06-12T20:23:26.672847Z"
    }
   },
   "outputs": [],
   "source": [
    "def play_game_no_es(grid, policy,  windy=0.1,gamma=0.9):\n",
    "    # The game starts in a known state\n",
    "    s = (2, 0)\n",
    "    grid.set_state(s)\n",
    "    a = random_windy(policy[s], windy, grid.actions[s])\n",
    "\n",
    "    # Now each triplet is s(t), a(t), r(t)\n",
    "    # r(t) is obtained from the action a(t-1) of s(t-1) and arrive at s(t)\n",
    "    states_actions_rewards = [(s, a, 0)]\n",
    "    while True:\n",
    "        r = grid.move(a)\n",
    "        s = grid.current_state()\n",
    "        if grid.game_over():\n",
    "            states_actions_rewards.append((s, None, r))\n",
    "            break\n",
    "        else:\n",
    "            a = random_windy(policy[s], windy, grid.actions[s])\n",
    "            states_actions_rewards.append((s, a, r))\n",
    "\n",
    "    # Calculation of the returns, the value of the terminal state is 0 by definition\n",
    "    G = 0\n",
    "    states_actions_returns = []\n",
    "    first = True\n",
    "    for s, a, r in reversed(states_actions_rewards):\n",
    "        # It must ignore the first state and the last G since it does not correspond\n",
    "        # to any movement\n",
    "        if first:\n",
    "            first = False\n",
    "        else:\n",
    "            states_actions_returns.append((s, a, G))\n",
    "        G = r + gamma*G\n",
    "\n",
    "    # The states are rearranged\n",
    "    states_actions_returns.reverse()\n",
    "\n",
    "    return states_actions_returns"
   ]
  },
  {
   "cell_type": "code",
   "execution_count": 16,
   "metadata": {
    "ExecuteTime": {
     "end_time": "2019-06-12T20:23:28.242372Z",
     "start_time": "2019-06-12T20:23:26.689774Z"
    }
   },
   "outputs": [
    {
     "data": {
      "image/png": "[encoded data removed]",
      "text/plain": [
       "<Figure size 432x288 with 1 Axes>"
      ]
     },
     "metadata": {
      "image/png": {
       "height": 250,
       "width": 373
      },
      "needs_background": "light"
     },
     "output_type": "display_data"
    },
    {
     "name": "stdout",
     "output_type": "stream",
     "text": [
      "Value function\n",
      "---------------------------\n",
      " 0.54| 0.75| 1.00| 0.00|\n",
      "---------------------------\n",
      " 0.35| 0.00| 0.76| 0.00|\n",
      "---------------------------\n",
      " 0.19| 0.30| 0.49| 0.30|\n",
      "\n",
      "Policy\n",
      "---------------------------\n",
      "  →  |  →  |  →  |     |\n",
      "---------------------------\n",
      "  ↑  |     |  ↑  |     |\n",
      "---------------------------\n",
      "  ↑  |  →  |  ↑  |  ←  |\n"
     ]
    }
   ],
   "source": [
    "grid = create_grid(step_cost=-0.1)\n",
    "policy = random_policy(grid)\n",
    "\n",
    "# Q(s,a) and returns are initialized\n",
    "Q = {}\n",
    "returns = {}\n",
    "states = grid.all_states()\n",
    "for s in states:\n",
    "    if s in grid.actions:\n",
    "        Q[s] = {}\n",
    "        for a in Grid.possible_actions:\n",
    "            Q[s][a] = 0\n",
    "            returns[(s,a)] = []\n",
    "    else:\n",
    "        pass\n",
    "    \n",
    "deltas = []\n",
    "for t in range(5000):\n",
    "    # A new episode is generated using pi\n",
    "    biggest_change = 0\n",
    "    states_actions_returns = play_game_no_es(grid, policy)\n",
    "\n",
    "    # Calculo de Q(s,a)\n",
    "    seen_state_action_pairs = set()\n",
    "    \n",
    "    for s, a, G in states_actions_returns:\n",
    "        # Check if s has already visited\n",
    "        # The evaluation is done only in the first visit\n",
    "        sa = (s, a)\n",
    "        if sa not in seen_state_action_pairs:\n",
    "            old_q = Q[s][a]\n",
    "            returns[sa].append(G)\n",
    "            Q[s][a] = np.mean(returns[sa])\n",
    "            biggest_change = max(biggest_change, np.abs(old_q - Q[s][a]))\n",
    "            seen_state_action_pairs.add(sa)\n",
    "            \n",
    "    deltas.append(biggest_change)\n",
    "\n",
    "    # calculate the new policy pi(s) = argmax[a]{ Q(s,a) }\n",
    "    for s in policy.keys():\n",
    "        a, _ = max_dict(Q[s])\n",
    "        policy[s] = a\n",
    "\n",
    "plt.plot(deltas)\n",
    "plt.show()\n",
    "\n",
    "# Locate the optimal status value function\n",
    "# V(s) = max[a]{ Q(s,a) }\n",
    "V = {}\n",
    "for s in policy.keys():\n",
    "    V[s] = max_dict(Q[s])[1]\n",
    "\n",
    "print_value_policy(V, policy, grid)"
   ]
  }
 ],
 "metadata": {
  "hide_input": false,
  "kernelspec": {
   "display_name": "Python 3",
   "language": "python",
   "name": "python3"
  },
  "language_info": {
   "codemirror_mode": {
    "name": "ipython",
    "version": 3
   },
   "file_extension": ".py",
   "mimetype": "text/x-python",
   "name": "python",
   "nbconvert_exporter": "python",
   "pygments_lexer": "ipython3",
   "version": "3.7.3"
  },
  "varInspector": {
   "cols": {
    "lenName": 16,
    "lenType": 16,
    "lenVar": 40
   },
   "kernels_config": {
    "python": {
     "delete_cmd_postfix": "",
     "delete_cmd_prefix": "del ",
     "library": "var_list.py",
     "varRefreshCmd": "print(var_dic_list())"
    },
    "r": {
     "delete_cmd_postfix": ") ",
     "delete_cmd_prefix": "rm(",
     "library": "var_list.r",
     "varRefreshCmd": "cat(var_dic_list()) "
    }
   },
   "types_to_exclude": [
    "module",
    "function",
    "builtin_function_or_method",
    "instance",
    "_Feature"
   ],
   "window_display": false
  }
 },
 "nbformat": 4,
 "nbformat_minor": 2
}
